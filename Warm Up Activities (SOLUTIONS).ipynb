{
 "cells": [
  {
   "cell_type": "markdown",
   "metadata": {},
   "source": [
    "# Warm Up Activities\n",
    "\n",
    "In this notebook you'll find a few different exercises combining dictionaries and lists in order to practice before the main activity of this project, Football Dictionaries."
   ]
  },
  {
   "cell_type": "markdown",
   "metadata": {},
   "source": [
    "## 1. Transform a user into a dictionary\n",
    "\n",
    "Write a function `build_user_as_dict` that receives three parameters (`name, email, age`) and returns a dictionary:"
   ]
  },
  {
   "cell_type": "markdown",
   "metadata": {},
   "source": [
    "##### ## Your Task ##"
   ]
  },
  {
   "cell_type": "code",
   "execution_count": 1,
   "metadata": {},
   "outputs": [],
   "source": [
    "def build_user_as_dict(name, email, age):\n",
    "    return {\n",
    "        'name': name,\n",
    "        'email': email,\n",
    "        'age': age\n",
    "    }"
   ]
  },
  {
   "cell_type": "markdown",
   "metadata": {},
   "source": [
    "##### Examples:\n",
    "\n",
    "The following code"
   ]
  },
  {
   "cell_type": "code",
   "execution_count": 2,
   "metadata": {},
   "outputs": [
    {
     "data": {
      "text/plain": [
       "{'name': 'John', 'email': 'john@gmail.com', 'age': 31}"
      ]
     },
     "execution_count": 2,
     "metadata": {},
     "output_type": "execute_result"
    }
   ],
   "source": [
    "build_user_as_dict('John', 'john@gmail.com', 31)"
   ]
  },
  {
   "cell_type": "markdown",
   "metadata": {},
   "source": [
    "should produce this output:"
   ]
  },
  {
   "cell_type": "code",
   "execution_count": 3,
   "metadata": {},
   "outputs": [
    {
     "data": {
      "text/plain": [
       "{'name': 'John', 'email': 'john@gmail.com', 'age': 31}"
      ]
     },
     "execution_count": 3,
     "metadata": {},
     "output_type": "execute_result"
    }
   ],
   "source": [
    "{\n",
    "    'name': 'John',\n",
    "    'email': 'john@gmail.com',\n",
    "    'age': 31\n",
    "}"
   ]
  },
  {
   "cell_type": "markdown",
   "metadata": {},
   "source": [
    "##### == Tests =="
   ]
  },
  {
   "cell_type": "code",
   "execution_count": 4,
   "metadata": {},
   "outputs": [],
   "source": [
    "assert build_user_as_dict('John', 'john@gmail.com', 31) == {\n",
    "    'name': 'John',\n",
    "    'email': 'john@gmail.com',\n",
    "    'age': 31\n",
    "}"
   ]
  },
  {
   "cell_type": "code",
   "execution_count": 5,
   "metadata": {},
   "outputs": [],
   "source": [
    "assert build_user_as_dict('Mary', 'mary@hotmail.com', 28) == {\n",
    "    'name': 'Mary',\n",
    "    'email': 'mary@hotmail.com',\n",
    "    'age': 28\n",
    "}"
   ]
  },
  {
   "cell_type": "markdown",
   "metadata": {},
   "source": [
    "---\n",
    "\n",
    "## 2. Transform list into dictionary\n",
    "\n",
    "The function `transform_user_list_to_dict` receives a list with the user information and transforms it into a dictionary.\n",
    "\n",
    "Here's an example list, as you can see, the name is in the first position, email in 2nd and age in 3rd:"
   ]
  },
  {
   "cell_type": "code",
   "execution_count": 6,
   "metadata": {},
   "outputs": [
    {
     "data": {
      "text/plain": [
       "['Mary', 'mary@hotmail.com', 28]"
      ]
     },
     "execution_count": 6,
     "metadata": {},
     "output_type": "execute_result"
    }
   ],
   "source": [
    "['Mary', 'mary@hotmail.com', 28]"
   ]
  },
  {
   "cell_type": "markdown",
   "metadata": {},
   "source": [
    "##### ## Your Task ##"
   ]
  },
  {
   "cell_type": "code",
   "execution_count": 7,
   "metadata": {},
   "outputs": [],
   "source": [
    "def transform_user_list_to_dict(a_user):\n",
    "    return {\n",
    "        'name': a_user[0],\n",
    "        'email': a_user[1],\n",
    "        'age': a_user[2],\n",
    "    }"
   ]
  },
  {
   "cell_type": "markdown",
   "metadata": {},
   "source": [
    "##### Examples:\n",
    "\n",
    "The following code"
   ]
  },
  {
   "cell_type": "code",
   "execution_count": 8,
   "metadata": {},
   "outputs": [
    {
     "data": {
      "text/plain": [
       "{'name': 'Mary', 'email': 'mary@hotmail.com', 'age': 28}"
      ]
     },
     "execution_count": 8,
     "metadata": {},
     "output_type": "execute_result"
    }
   ],
   "source": [
    "transform_user_list_to_dict(['Mary', 'mary@hotmail.com', 28])"
   ]
  },
  {
   "cell_type": "markdown",
   "metadata": {},
   "source": [
    "should produce this output:"
   ]
  },
  {
   "cell_type": "code",
   "execution_count": 9,
   "metadata": {},
   "outputs": [
    {
     "data": {
      "text/plain": [
       "{'name': 'Mary', 'email': 'mary@hotmail.com', 'age': 28}"
      ]
     },
     "execution_count": 9,
     "metadata": {},
     "output_type": "execute_result"
    }
   ],
   "source": [
    "{\n",
    "    'name': 'Mary',\n",
    "    'email': 'mary@hotmail.com',\n",
    "    'age': 28\n",
    "}"
   ]
  },
  {
   "cell_type": "markdown",
   "metadata": {},
   "source": [
    "##### == Tests =="
   ]
  },
  {
   "cell_type": "code",
   "execution_count": 10,
   "metadata": {},
   "outputs": [],
   "source": [
    "l1 = ['John', 'john@gmail.com', 31]\n",
    "\n",
    "assert transform_user_list_to_dict(l1) == {\n",
    "    'name': 'John',\n",
    "    'email': 'john@gmail.com',\n",
    "    'age': 31\n",
    "}"
   ]
  },
  {
   "cell_type": "code",
   "execution_count": 11,
   "metadata": {},
   "outputs": [],
   "source": [
    "l2 = ['Mary', 'mary@hotmail.com', 28]\n",
    "\n",
    "assert transform_user_list_to_dict(l2) == {\n",
    "    'name': 'Mary',\n",
    "    'email': 'mary@hotmail.com',\n",
    "    'age': 28\n",
    "}"
   ]
  },
  {
   "cell_type": "markdown",
   "metadata": {},
   "source": [
    "---\n",
    "\n",
    "## 3. Transform multiple users to dictionary list\n",
    "\n",
    "We're now going to combine multiple dictionaries in a list. If we have 2 users in the form of lists:"
   ]
  },
  {
   "cell_type": "code",
   "execution_count": 12,
   "metadata": {},
   "outputs": [
    {
     "data": {
      "text/plain": [
       "[['John', 'john@gmail.com', 31], ['Mary', 'mary@hotmail.com', 28]]"
      ]
     },
     "execution_count": 12,
     "metadata": {},
     "output_type": "execute_result"
    }
   ],
   "source": [
    "users = [\n",
    "    ['John', 'john@gmail.com', 31],\n",
    "    ['Mary', 'mary@hotmail.com', 28]\n",
    "]\n",
    "users"
   ]
  },
  {
   "cell_type": "markdown",
   "metadata": {},
   "source": [
    "we want to see them now represented as dictionaries:"
   ]
  },
  {
   "cell_type": "code",
   "execution_count": 13,
   "metadata": {},
   "outputs": [
    {
     "data": {
      "text/plain": [
       "[{'name': 'John', 'email': 'john@gmail.com', 'age': 31},\n",
       " {'name': 'Mary', 'email': 'mary@hotmail.com', 'age': 28}]"
      ]
     },
     "execution_count": 13,
     "metadata": {},
     "output_type": "execute_result"
    }
   ],
   "source": [
    "[{\n",
    "    'name': 'John',\n",
    "    'email': 'john@gmail.com',\n",
    "    'age': 31\n",
    "}, {\n",
    "    'name': 'Mary',\n",
    "    'email': 'mary@hotmail.com',\n",
    "    'age': 28\n",
    "}]"
   ]
  },
  {
   "cell_type": "markdown",
   "metadata": {},
   "source": [
    "We transform a list of lists, into a list of dictonaries."
   ]
  },
  {
   "cell_type": "markdown",
   "metadata": {},
   "source": [
    "##### ## Your Task ##"
   ]
  },
  {
   "cell_type": "code",
   "execution_count": 14,
   "metadata": {},
   "outputs": [],
   "source": [
    "def transform_multiple_users_to_dicts(multiple_users):\n",
    "    users = []\n",
    "    for user in multiple_users:\n",
    "        user_dict = {\n",
    "            'name': user[0],\n",
    "            'email': user[1],\n",
    "            'age': user[2],\n",
    "        }\n",
    "        users.append(user_dict)\n",
    "    return users"
   ]
  },
  {
   "cell_type": "markdown",
   "metadata": {},
   "source": [
    "##### Examples:\n",
    "\n",
    "The following code"
   ]
  },
  {
   "cell_type": "code",
   "execution_count": 15,
   "metadata": {},
   "outputs": [
    {
     "data": {
      "text/plain": [
       "[{'name': 'John', 'email': 'john@gmail.com', 'age': 31},\n",
       " {'name': 'Mary', 'email': 'mary@hotmail.com', 'age': 28}]"
      ]
     },
     "execution_count": 15,
     "metadata": {},
     "output_type": "execute_result"
    }
   ],
   "source": [
    "users = [\n",
    "    ['John', 'john@gmail.com', 31],\n",
    "    ['Mary', 'mary@hotmail.com', 28]\n",
    "]\n",
    "\n",
    "transform_multiple_users_to_dicts(users)"
   ]
  },
  {
   "cell_type": "markdown",
   "metadata": {},
   "source": [
    "should produce this output:"
   ]
  },
  {
   "cell_type": "code",
   "execution_count": 16,
   "metadata": {},
   "outputs": [
    {
     "data": {
      "text/plain": [
       "[{'name': 'John', 'email': 'john@gmail.com', 'age': 31},\n",
       " {'name': 'Mary', 'email': 'mary@hotmail.com', 'age': 28}]"
      ]
     },
     "execution_count": 16,
     "metadata": {},
     "output_type": "execute_result"
    }
   ],
   "source": [
    "[{\n",
    "    'name': 'John',\n",
    "    'email': 'john@gmail.com',\n",
    "    'age': 31\n",
    "}, {\n",
    "    'name': 'Mary',\n",
    "    'email': 'mary@hotmail.com',\n",
    "    'age': 28\n",
    "}]"
   ]
  },
  {
   "cell_type": "markdown",
   "metadata": {},
   "source": [
    "##### == Tests =="
   ]
  },
  {
   "cell_type": "code",
   "execution_count": 17,
   "metadata": {},
   "outputs": [],
   "source": [
    "users = [\n",
    "    ['John', 'john@gmail.com', 31],\n",
    "    ['Mary', 'mary@hotmail.com', 28],\n",
    "    ['Rose', 'rose@yahoo.com', 30]\n",
    "]\n",
    "\n",
    "users_as_dict = transform_multiple_users_to_dicts(users)\n",
    "\n",
    "assert users_as_dict == [{\n",
    "    'name': 'John',\n",
    "    'email': 'john@gmail.com',\n",
    "    'age': 31\n",
    "}, {\n",
    "    'name': 'Mary',\n",
    "    'email': 'mary@hotmail.com',\n",
    "    'age': 28\n",
    "}, {\n",
    "    'name': 'Rose',\n",
    "    'email': 'rose@yahoo.com',\n",
    "    'age': 30\n",
    "}]\n"
   ]
  },
  {
   "cell_type": "markdown",
   "metadata": {},
   "source": [
    "---\n",
    "\n",
    "## 4. Group users by email domain\n",
    "\n",
    "The function `group_users_by_email_domain` will receive a list of users as dictionaries, like the following one:"
   ]
  },
  {
   "cell_type": "code",
   "execution_count": 18,
   "metadata": {},
   "outputs": [
    {
     "data": {
      "text/plain": [
       "[{'name': 'John', 'email': 'john@gmail.com', 'age': 31},\n",
       " {'name': 'Mary', 'email': 'mary@hotmail.com', 'age': 28},\n",
       " {'name': 'Rose', 'email': 'Rose@gmail.com', 'age': 30}]"
      ]
     },
     "execution_count": 18,
     "metadata": {},
     "output_type": "execute_result"
    }
   ],
   "source": [
    "[{\n",
    "    'name': 'John',\n",
    "    'email': 'john@gmail.com',\n",
    "    'age': 31\n",
    "}, {\n",
    "    'name': 'Mary',\n",
    "    'email': 'mary@hotmail.com',\n",
    "    'age': 28\n",
    "}, {\n",
    "    'name': 'Rose',\n",
    "    'email': 'Rose@gmail.com',\n",
    "    'age': 30\n",
    "}]"
   ]
  },
  {
   "cell_type": "markdown",
   "metadata": {},
   "source": [
    "and it should group them by the domain name of their email, something like:\n",
    "\n",
    "* gmail.com:\n",
    " * Rose\n",
    " * John\n",
    "* hotmail.com:\n",
    " * Mary\n",
    " \n",
    "Which in code looks like:"
   ]
  },
  {
   "cell_type": "code",
   "execution_count": 19,
   "metadata": {},
   "outputs": [
    {
     "data": {
      "text/plain": [
       "{'gmail.com': [{'name': 'John', 'email': 'john@gmail.com', 'age': 31},\n",
       "  {'name': 'Rose', 'email': 'Rose@gmail.com', 'age': 30}],\n",
       " 'hotmail.com': [{'name': 'Mary', 'email': 'mary@hotmail.com', 'age': 28}]}"
      ]
     },
     "execution_count": 19,
     "metadata": {},
     "output_type": "execute_result"
    }
   ],
   "source": [
    "{\n",
    "    'gmail.com': [{\n",
    "        'name': 'John',\n",
    "        'email': 'john@gmail.com',\n",
    "        'age': 31\n",
    "    }, {\n",
    "        'name': 'Rose',\n",
    "        'email': 'Rose@gmail.com',\n",
    "        'age': 30\n",
    "    }],\n",
    "    'hotmail.com': [{\n",
    "        'name': 'Mary',\n",
    "        'email': 'mary@hotmail.com',\n",
    "        'age': 28\n",
    "    }]\n",
    "}"
   ]
  },
  {
   "cell_type": "markdown",
   "metadata": {},
   "source": [
    "##### ## Your Task ##"
   ]
  },
  {
   "cell_type": "code",
   "execution_count": 20,
   "metadata": {},
   "outputs": [],
   "source": [
    "def group_users_by_email_domain(multiple_users):\n",
    "    users_dict = {}\n",
    "    for user in users:\n",
    "        domain = user['email'].split('@')[1]\n",
    "        users_dict.setdefault(domain, [])\n",
    "        users_dict[domain].append(user)\n",
    "    return users_dict"
   ]
  },
  {
   "cell_type": "markdown",
   "metadata": {},
   "source": [
    "##### == Tests =="
   ]
  },
  {
   "cell_type": "code",
   "execution_count": 21,
   "metadata": {},
   "outputs": [],
   "source": [
    "users = [{\n",
    "    'name': 'John',\n",
    "    'email': 'john@gmail.com',     # gmail\n",
    "    'age': 31\n",
    "}, {\n",
    "    'name': 'Mary',\n",
    "    'email': 'mary@hotmail.com',   # hotmail\n",
    "    'age': 28\n",
    "}, {\n",
    "    'name': 'Rose',\n",
    "    'email': 'rose@yahoo.com',     # yahoo\n",
    "    'age': 30\n",
    "}, {\n",
    "    'name': 'Jane',\n",
    "    'email': 'jane@gmail.com',     # gmail\n",
    "    'age': 25\n",
    "}, {\n",
    "    'name': 'Dustin',\n",
    "    'email': 'dustin@hotmail.com',  # hotmail\n",
    "    'age': 35\n",
    "}]\n",
    "\n",
    "users_grouped = group_users_by_email_domain(users)\n",
    "\n",
    "assert users_grouped == {\n",
    "    'gmail.com': [{\n",
    "        'name': 'John',\n",
    "        'email': 'john@gmail.com',     # gmail\n",
    "        'age': 31\n",
    "    }, {\n",
    "        'name': 'Jane',\n",
    "        'email': 'jane@gmail.com',     # gmail\n",
    "        'age': 25\n",
    "    }],\n",
    "    'hotmail.com': [{\n",
    "        'name': 'Mary',\n",
    "        'email': 'mary@hotmail.com',   # hotmail\n",
    "        'age': 28\n",
    "    }, {\n",
    "        'name': 'Dustin',\n",
    "        'email': 'dustin@hotmail.com',  # hotmail\n",
    "        'age': 35\n",
    "    }],\n",
    "    'yahoo.com': [{\n",
    "        'name': 'Rose',\n",
    "        'email': 'rose@yahoo.com',     # yahoo\n",
    "        'age': 30\n",
    "    }]\n",
    "}"
   ]
  },
  {
   "cell_type": "code",
   "execution_count": 22,
   "metadata": {},
   "outputs": [],
   "source": [
    "users = [{\n",
    "    'name': 'Jason',\n",
    "    'email': 'jason@rmotr.com',\n",
    "    'age': 61\n",
    "}]\n",
    "users_grouped = group_users_by_email_domain(users)\n",
    "\n",
    "assert users_grouped == {\n",
    "    'rmotr.com': [{\n",
    "        'name': 'Jason',\n",
    "        'email': 'jason@rmotr.com',\n",
    "        'age': 61\n",
    "    }]\n",
    "}\n"
   ]
  }
 ],
 "metadata": {
  "kernelspec": {
   "display_name": "Python 3",
   "language": "python",
   "name": "python3"
  },
  "language_info": {
   "codemirror_mode": {
    "name": "ipython",
    "version": 3
   },
   "file_extension": ".py",
   "mimetype": "text/x-python",
   "name": "python",
   "nbconvert_exporter": "python",
   "pygments_lexer": "ipython3",
   "version": "3.6.8"
  }
 },
 "nbformat": 4,
 "nbformat_minor": 2
}
